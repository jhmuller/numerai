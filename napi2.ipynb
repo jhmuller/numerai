{
 "cells": [
  {
   "cell_type": "code",
   "execution_count": 1,
   "metadata": {},
   "outputs": [],
   "source": [
    "import sys\n",
    "import os\n",
    "import pandas as pd\n",
    "import numpy as np\n",
    "import matplotlib as mpl\n",
    "import matplotlib.pyplot as plt\n",
    "import numerapi \n",
    "import sklearn"
   ]
  },
  {
   "cell_type": "code",
   "execution_count": 2,
   "metadata": {},
   "outputs": [],
   "source": [
    "#from sklearn.model_selection import train_test_split\n",
    "from sklearn.pipeline import make_pipeline\n",
    "from sklearn.preprocessing import StandardScaler"
   ]
  },
  {
   "cell_type": "code",
   "execution_count": 3,
   "metadata": {},
   "outputs": [
    {
     "name": "stdout",
     "output_type": "stream",
     "text": [
      "Using RFR\n"
     ]
    }
   ],
   "source": [
    "acct = \"graphman\" # or \"jhmuller\"\n",
    "methods = [\"RFR\"]\n",
    "if \"RFR\" in methods:\n",
    "    print (\"Using RFR\")\n",
    "if \"PCR\" in methods:\n",
    "    print(\"Using PCR\")"
   ]
  },
  {
   "cell_type": "code",
   "execution_count": 4,
   "metadata": {},
   "outputs": [],
   "source": [
    "temp = pd.read_csv(\"all.napi\", index_col=None)\n",
    "acct = \"graphman\"\n",
    "temp = temp[temp['account']==acct]\n",
    "public_id = temp.loc[temp['type']=='public', 'value'].values[0]\n",
    "private_key = temp.loc[temp['type']=='private', 'value'].values[0]"
   ]
  },
  {
   "cell_type": "code",
   "execution_count": 5,
   "metadata": {},
   "outputs": [],
   "source": [
    "# some API calls do not require logging in\n",
    "napi = numerapi.NumerAPI(verbosity=\"info\",\n",
    "                        public_id=public_id,\n",
    "                        secret_key=private_key)"
   ]
  },
  {
   "cell_type": "code",
   "execution_count": 6,
   "metadata": {},
   "outputs": [
    {
     "data": {
      "text/plain": [
       "{'example_model.py': ['./datadir\\\\numerai_dataset_233\\\\example_model.py',\n",
       "  8536],\n",
       " 'example_model.r': ['./datadir\\\\numerai_dataset_233\\\\example_model.r', 9280],\n",
       " 'example_predictions_target_kazutsugi.csv': ['./datadir\\\\numerai_dataset_233\\\\example_predictions_target_kazutsugi.csv',\n",
       "  41464549],\n",
       " 'numerai_tournament_data.csv': ['./datadir\\\\numerai_dataset_233\\\\numerai_tournament_data.csv',\n",
       "  2621558835],\n",
       " 'numerai_training_data.csv': ['./datadir\\\\numerai_dataset_233\\\\numerai_training_data.csv',\n",
       "  794941377],\n",
       " 'numerox_example.py': ['./datadir\\\\numerai_dataset_233\\\\numerox_example.py',\n",
       "  990]}"
      ]
     },
     "execution_count": 6,
     "metadata": {},
     "output_type": "execute_result"
    }
   ],
   "source": [
    "data_dir = \"./datadir\"\n",
    "cur_round = napi.get_current_round()\n",
    "data_path = os.path.join(data_dir, \"numerai_dataset_\"+str(cur_round))\n",
    "if not os.path.exists(data_path):\n",
    "    napi.download_current_dataset(dest_path=data_dir, unzip=True)\n",
    "files = os.listdir(data_path)\n",
    "fdict = {}\n",
    "for file in files:\n",
    "    fpath = os.path.join(data_path, file)\n",
    "    fsize = os.path.getsize(fpath)\n",
    "    fdict[file] = [fpath, fsize]\n",
    "fdict    "
   ]
  },
  {
   "cell_type": "code",
   "execution_count": 10,
   "metadata": {},
   "outputs": [
    {
     "data": {
      "text/plain": [
       "(501808, 314)"
      ]
     },
     "execution_count": 10,
     "metadata": {},
     "output_type": "execute_result"
    }
   ],
   "source": [
    "train = pd.read_csv(fdict['numerai_training_data.csv'][0])\n",
    "train.shape"
   ]
  },
  {
   "cell_type": "code",
   "execution_count": 11,
   "metadata": {
    "scrolled": true
   },
   "outputs": [],
   "source": [
    "train.columns\n",
    "x_cols = [c for c in train.columns if c.startswith('feature')]\n",
    "y_col = train.columns[-1]"
   ]
  },
  {
   "cell_type": "code",
   "execution_count": 12,
   "metadata": {},
   "outputs": [],
   "source": [
    "if 'RFR' in methods:\n",
    "    from sklearn.ensemble import RandomForestRegressor\n",
    "    rfr = RandomForestRegressor(n_estimators=3, max_depth=10)\n",
    "    X_train = train.loc[:, x_cols]\n",
    "    y_train = train.loc[:, y_col]\n",
    "    rfr.fit(X_train, y_train)"
   ]
  },
  {
   "cell_type": "code",
   "execution_count": 13,
   "metadata": {},
   "outputs": [
    {
     "data": {
      "text/plain": [
       "RandomForestRegressor(max_depth=10, n_estimators=3)"
      ]
     },
     "execution_count": 13,
     "metadata": {},
     "output_type": "execute_result"
    }
   ],
   "source": [
    "rfr"
   ]
  },
  {
   "cell_type": "code",
   "execution_count": null,
   "metadata": {},
   "outputs": [],
   "source": [
    "if 'GBR' in methods:\n",
    "    from sklearn.ensemble import GradientBoostingRegressor\n",
    "    gbr = GradientBoostingRegressor()\n",
    "    X_train = train.loc[:, x_cols]\n",
    "    y_train = train.loc[:, y_col]\n",
    "    gbr.fit(X_train, y_train)"
   ]
  },
  {
   "cell_type": "code",
   "execution_count": null,
   "metadata": {},
   "outputs": [],
   "source": [
    "if 'PCR' in methods:\n",
    "    from sklearn.linear_model import LinearRegression\n",
    "    from sklearn.decomposition import PCA\n",
    "    pcr = make_pipeline(StandardScaler(), PCA(n_components=40), LinearRegression())\n",
    "    pca = PCA(n_components=40)\n",
    "    X_train = train.loc[:, x_cols]\n",
    "    y_train = train.loc[:, y_col]\n",
    "    pcr.fit(X_train, y_train)"
   ]
  },
  {
   "cell_type": "code",
   "execution_count": null,
   "metadata": {},
   "outputs": [],
   "source": [
    "if 'PLS' in methods:\n",
    "    from sklearn.cross_decomposition import PLSRegression    \n",
    "    pls = PLSRegression(n_components=40)\n",
    "    X_train = train.loc[:, x_cols]\n",
    "    y_train = train.loc[:, y_col]\n",
    "    pls.fit(X_train, y_train)"
   ]
  },
  {
   "cell_type": "code",
   "execution_count": null,
   "metadata": {},
   "outputs": [],
   "source": [
    "del train"
   ]
  },
  {
   "cell_type": "code",
   "execution_count": null,
   "metadata": {},
   "outputs": [],
   "source": [
    "test = pd.read_csv(fdict['numerai_tournament_data.csv'][0])"
   ]
  },
  {
   "cell_type": "code",
   "execution_count": null,
   "metadata": {},
   "outputs": [],
   "source": [
    "test[x_cols] = test[x_cols].apply(np.float32)"
   ]
  },
  {
   "cell_type": "code",
   "execution_count": null,
   "metadata": {
    "scrolled": true
   },
   "outputs": [],
   "source": [
    "y_pred = pls.predict(test[x_cols])"
   ]
  },
  {
   "cell_type": "code",
   "execution_count": null,
   "metadata": {},
   "outputs": [],
   "source": [
    "fig, ax = plt.subplots(figsize=(10,3))\n",
    "ax.grid()\n",
    "ax.hist(y_pred)\n",
    "#dir(ax)"
   ]
  },
  {
   "cell_type": "code",
   "execution_count": null,
   "metadata": {},
   "outputs": [],
   "source": [
    "min_y = min(y_pred)\n",
    "max_y = max(y_pred)\n",
    "\n",
    "mean_y = np.mean(y_pred)\n",
    "print(min_y, max_y, mean_y)\n",
    "adj_pred = (y_pred - min_y)/(max_y - min_y)\n",
    "print(min(adj_pred), max(adj_pred))"
   ]
  },
  {
   "cell_type": "code",
   "execution_count": null,
   "metadata": {},
   "outputs": [],
   "source": [
    "fig, ax = plt.subplots(figsize=(10,3))\n",
    "ax.grid()\n",
    "ax.hist(adj_pred)\n",
    "#dir(ax)"
   ]
  },
  {
   "cell_type": "code",
   "execution_count": null,
   "metadata": {},
   "outputs": [],
   "source": [
    "# predictions must have an `id` column and a `prediction_kazutsugi` column\n",
    "predictions_df = test[\"id\"].to_frame()\n",
    "predictions_df[\"prediction_kazutsugi\"] = adj_pred\n",
    "predictions_df.head()\n",
    "tourn = napi.get_tournaments()\n",
    "tnum = tourn[0]['tournament']\n",
    "tfile = f\"jhmuller_predictions_{tnum}.csv\"\n",
    "predictions_df.to_csv(tfile, index=False)"
   ]
  },
  {
   "cell_type": "code",
   "execution_count": null,
   "metadata": {},
   "outputs": [],
   "source": [
    "napi.upload_predictions(tfile)\n"
   ]
  },
  {
   "cell_type": "code",
   "execution_count": null,
   "metadata": {},
   "outputs": [],
   "source": []
  },
  {
   "cell_type": "code",
   "execution_count": null,
   "metadata": {},
   "outputs": [],
   "source": [
    "fig, ax = plt.subplots(figsize=(10,3))\n",
    "ax.grid()\n",
    "ax.scatter(y_pred, y_valid)\n",
    "#dir(ax)"
   ]
  },
  {
   "cell_type": "code",
   "execution_count": null,
   "metadata": {},
   "outputs": [],
   "source": [
    "fig, ax = plt.subplots(figsize=(10,3))\n",
    "ax.grid()\n",
    "ax.plot(np.cumsum(pca.explained_variance_ratio_))\n",
    "#dir(ax)"
   ]
  },
  {
   "cell_type": "code",
   "execution_count": null,
   "metadata": {},
   "outputs": [],
   "source": [
    "pcr = make_pipeline(StandardScaler(), PCA(n_components=50), LinearRegression())\n",
    "for last in (range(1,5)):\n",
    "    X_train = train.loc[train['era'] == \"era\"+str(last), x_cols]\n",
    "    y_train = train.loc[train['era'] == \"era\"+str(last), y_col]\n",
    "    X_valid = train.loc[train['era'] == \"era\"+str(last+1), x_cols]\n",
    "    y_valid = train.loc[train['era'] == \"era\"+str(last+1), y_col]\n",
    "    if True:\n",
    "        pcr.fit(X_train, y_train)\n",
    "        pca = pcr.named_steps['pca']  # retrieve the PCA step of the pipeline\n",
    "        y_pred = pcr.predict(X_valid)\n",
    "        pca_rmse = (np.sum(y_valid - y_pred)**2 / y_valid.shape[0])**0.5\n",
    "        pca_mad = (np.sum(np.abs(y_valid - y_pred)) / y_valid.shape[0])        \n",
    "        print(last, pca_mad)\n",
    "    rfreg = RandomForestRegressor(n_estimators=300, max_depth=40, random_state=0)\n",
    "    rfreg.fit(X_train, y_train)\n",
    "    y_pred = rfreg.predict(X_valid)\n",
    "    rf_rmse = (np.sum(y_valid - y_pred)**2 / y_valid.shape[0])**0.5\n",
    "    rf_mad = (np.sum(np.abs(y_valid - y_pred)) / y_valid.shape[0])      \n",
    "    print(last, rf_mad)    "
   ]
  }
 ],
 "metadata": {
  "kernelspec": {
   "display_name": "numerai",
   "language": "python",
   "name": "numerai"
  },
  "language_info": {
   "codemirror_mode": {
    "name": "ipython",
    "version": 3
   },
   "file_extension": ".py",
   "mimetype": "text/x-python",
   "name": "python",
   "nbconvert_exporter": "python",
   "pygments_lexer": "ipython3",
   "version": "3.8.5"
  }
 },
 "nbformat": 4,
 "nbformat_minor": 4
}
