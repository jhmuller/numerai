{
 "cells": [
  {
   "cell_type": "code",
   "execution_count": 22,
   "metadata": {},
   "outputs": [],
   "source": [
    "import sys\n",
    "import os\n",
    "import pandas as pd\n",
    "import numpy as np\n",
    "import matplotlib as mpl\n",
    "import matplotlib.pyplot as plt\n",
    "import numerapi \n",
    "import sklearn"
   ]
  },
  {
   "cell_type": "code",
   "execution_count": 27,
   "metadata": {},
   "outputs": [],
   "source": [
    "temp = pd.read_csv(\"all.napi\", index_col=None)\n",
    "acct = \"graphman\"\n",
    "temp = temp[temp['account']==acct]\n",
    "public_id = temp.loc[temp['type']=='public', 'value'].values[0]\n",
    "private_key = temp.loc[temp['type']=='private', 'value'].values[0]"
   ]
  },
  {
   "cell_type": "code",
   "execution_count": 36,
   "metadata": {},
   "outputs": [],
   "source": [
    "#from sklearn.model_selection import train_test_split\n",
    "from sklearn.pipeline import make_pipeline\n",
    "from sklearn.linear_model import LinearRegression\n",
    "from sklearn.preprocessing import StandardScaler\n",
    "from sklearn.decomposition import PCA\n",
    "from sklearn.cross_decomposition import PLSRegression\n",
    "from sklearn.ensemble import RandomForestRegressor"
   ]
  },
  {
   "cell_type": "code",
   "execution_count": 29,
   "metadata": {},
   "outputs": [],
   "source": [
    "# some API calls do not require logging in\n",
    "napi = numerapi.NumerAPI(verbosity=\"info\",\n",
    "                        public_id=public_id,\n",
    "                        secret_key=private_key)"
   ]
  },
  {
   "cell_type": "code",
   "execution_count": 31,
   "metadata": {},
   "outputs": [
    {
     "data": {
      "text/plain": [
       "{'analysis_and_tips.ipynb': ['./datadir\\\\numerai_dataset_233\\\\analysis_and_tips.ipynb',\n",
       "  234643],\n",
       " 'example_model.py': ['./datadir\\\\numerai_dataset_233\\\\example_model.py',\n",
       "  8536],\n",
       " 'example_model.r': ['./datadir\\\\numerai_dataset_233\\\\example_model.r', 9280],\n",
       " 'example_predictions_target_kazutsugi.csv': ['./datadir\\\\numerai_dataset_233\\\\example_predictions_target_kazutsugi.csv',\n",
       "  41464549],\n",
       " 'numerai_tournament_data.csv': ['./datadir\\\\numerai_dataset_233\\\\numerai_tournament_data.csv',\n",
       "  2621558835],\n",
       " 'numerai_training_data.csv': ['./datadir\\\\numerai_dataset_233\\\\numerai_training_data.csv',\n",
       "  794941377],\n",
       " 'numerox_example.py': ['./datadir\\\\numerai_dataset_233\\\\numerox_example.py',\n",
       "  990]}"
      ]
     },
     "execution_count": 31,
     "metadata": {},
     "output_type": "execute_result"
    }
   ],
   "source": [
    "data_dir = \"./datadir\"\n",
    "cur_round = napi.get_current_round()\n",
    "data_path = os.path.join(data_dir, \"numerai_dataset_\"+str(cur_round))\n",
    "if not os.path.exists(data_path):\n",
    "    napi.download_current_dataset(dest_path=data_dir, unzip=True)\n",
    "files = os.listdir(data_path)\n",
    "fdict = {}\n",
    "for file in files:\n",
    "    fpath = os.path.join(data_path, file)\n",
    "    fsize = os.path.getsize(fpath)\n",
    "    fdict[file] = [fpath, fsize]\n",
    "fdict    "
   ]
  },
  {
   "cell_type": "code",
   "execution_count": 39,
   "metadata": {},
   "outputs": [],
   "source": [
    "train = pd.read_csv(fdict['numerai_training_data.csv'][0])"
   ]
  },
  {
   "cell_type": "code",
   "execution_count": 40,
   "metadata": {
    "scrolled": true
   },
   "outputs": [],
   "source": [
    "train.columns\n",
    "x_cols = [c for c in train.columns if c.startswith('feature')]\n",
    "y_col = train.columns[-1]"
   ]
  },
  {
   "cell_type": "code",
   "execution_count": 41,
   "metadata": {},
   "outputs": [
    {
     "data": {
      "text/plain": [
       "PLSRegression(n_components=40)"
      ]
     },
     "execution_count": 41,
     "metadata": {},
     "output_type": "execute_result"
    }
   ],
   "source": [
    "#pcr = make_pipeline(StandardScaler(), PCA(n_components=40), LinearRegression())\n",
    "pls = PLSRegression(n_components=40)\n",
    "X_train = train.loc[:, x_cols]\n",
    "y_train = train.loc[:, y_col]\n",
    "pls.fit(X_train, y_train)\n",
    "#pcr.fit(X_train, y_train)"
   ]
  },
  {
   "cell_type": "code",
   "execution_count": 44,
   "metadata": {},
   "outputs": [
    {
     "data": {
      "text/plain": [
       "(501808, 314)"
      ]
     },
     "execution_count": 44,
     "metadata": {},
     "output_type": "execute_result"
    }
   ],
   "source": [
    "locals().keys()\n",
    "train.shape"
   ]
  },
  {
   "cell_type": "code",
   "execution_count": 9,
   "metadata": {},
   "outputs": [
    {
     "ename": "NameError",
     "evalue": "name 'x_cols' is not defined",
     "output_type": "error",
     "traceback": [
      "\u001b[1;31m---------------------------------------------------------------------------\u001b[0m",
      "\u001b[1;31mNameError\u001b[0m                                 Traceback (most recent call last)",
      "\u001b[1;32m<ipython-input-9-80ad5ab00d51>\u001b[0m in \u001b[0;36m<module>\u001b[1;34m\u001b[0m\n\u001b[0;32m      1\u001b[0m \u001b[1;31m#pcr = make_pipeline(StandardScaler(), PCA(n_components=40), LinearRegression())\u001b[0m\u001b[1;33m\u001b[0m\u001b[1;33m\u001b[0m\u001b[1;33m\u001b[0m\u001b[0m\n\u001b[0;32m      2\u001b[0m \u001b[0mrfr\u001b[0m \u001b[1;33m=\u001b[0m \u001b[0mRandomForestRegressor\u001b[0m\u001b[1;33m(\u001b[0m\u001b[0mn_estimators\u001b[0m\u001b[1;33m=\u001b[0m\u001b[1;36m3\u001b[0m\u001b[1;33m,\u001b[0m \u001b[0mmax_depth\u001b[0m\u001b[1;33m=\u001b[0m\u001b[1;36m10\u001b[0m\u001b[1;33m)\u001b[0m\u001b[1;33m\u001b[0m\u001b[1;33m\u001b[0m\u001b[0m\n\u001b[1;32m----> 3\u001b[1;33m \u001b[0mX_train\u001b[0m \u001b[1;33m=\u001b[0m \u001b[0mtrain\u001b[0m\u001b[1;33m.\u001b[0m\u001b[0mloc\u001b[0m\u001b[1;33m[\u001b[0m\u001b[1;33m:\u001b[0m\u001b[1;33m,\u001b[0m \u001b[0mx_cols\u001b[0m\u001b[1;33m]\u001b[0m\u001b[1;33m\u001b[0m\u001b[1;33m\u001b[0m\u001b[0m\n\u001b[0m\u001b[0;32m      4\u001b[0m \u001b[0my_train\u001b[0m \u001b[1;33m=\u001b[0m \u001b[0mtrain\u001b[0m\u001b[1;33m.\u001b[0m\u001b[0mloc\u001b[0m\u001b[1;33m[\u001b[0m\u001b[1;33m:\u001b[0m\u001b[1;33m,\u001b[0m \u001b[0my_col\u001b[0m\u001b[1;33m]\u001b[0m\u001b[1;33m\u001b[0m\u001b[1;33m\u001b[0m\u001b[0m\n\u001b[0;32m      5\u001b[0m \u001b[0mrfr\u001b[0m\u001b[1;33m.\u001b[0m\u001b[0mfit\u001b[0m\u001b[1;33m(\u001b[0m\u001b[0mX_train\u001b[0m\u001b[1;33m,\u001b[0m \u001b[0my_train\u001b[0m\u001b[1;33m)\u001b[0m\u001b[1;33m\u001b[0m\u001b[1;33m\u001b[0m\u001b[0m\n",
      "\u001b[1;31mNameError\u001b[0m: name 'x_cols' is not defined"
     ]
    }
   ],
   "source": [
    "from sklearn.ensemble import RandomForestRegressor\n",
    "rfr = RandomForestRegressor(n_estimators=3, max_depth=10)\n",
    "X_train = train.loc[:, x_cols]\n",
    "y_train = train.loc[:, y_col]\n",
    "rfr.fit(X_train, y_train)\n",
    "#pcr.fit(X_train, y_train)"
   ]
  },
  {
   "cell_type": "code",
   "execution_count": 8,
   "metadata": {},
   "outputs": [
    {
     "ename": "NameError",
     "evalue": "name 'rfr' is not defined",
     "output_type": "error",
     "traceback": [
      "\u001b[1;31m---------------------------------------------------------------------------\u001b[0m",
      "\u001b[1;31mNameError\u001b[0m                                 Traceback (most recent call last)",
      "\u001b[1;32m<ipython-input-8-b0e7dbc70a76>\u001b[0m in \u001b[0;36m<module>\u001b[1;34m\u001b[0m\n\u001b[1;32m----> 1\u001b[1;33m \u001b[0mrfr\u001b[0m\u001b[1;33m\u001b[0m\u001b[1;33m\u001b[0m\u001b[0m\n\u001b[0m",
      "\u001b[1;31mNameError\u001b[0m: name 'rfr' is not defined"
     ]
    }
   ],
   "source": [
    "rfr"
   ]
  },
  {
   "cell_type": "code",
   "execution_count": 35,
   "metadata": {},
   "outputs": [],
   "source": [
    "del train"
   ]
  },
  {
   "cell_type": "code",
   "execution_count": 13,
   "metadata": {},
   "outputs": [],
   "source": [
    "test = pd.read_csv(fdict['numerai_tournament_data.csv'][0])"
   ]
  },
  {
   "cell_type": "code",
   "execution_count": 14,
   "metadata": {},
   "outputs": [],
   "source": [
    "test[x_cols] = test[x_cols].apply(np.float32)"
   ]
  },
  {
   "cell_type": "code",
   "execution_count": 15,
   "metadata": {
    "scrolled": true
   },
   "outputs": [],
   "source": [
    "y_pred = pls.predict(test[x_cols])"
   ]
  },
  {
   "cell_type": "code",
   "execution_count": 16,
   "metadata": {},
   "outputs": [
    {
     "data": {
      "text/plain": [
       "(array([7.30000e+01, 1.89100e+03, 2.38170e+04, 1.65031e+05, 5.15728e+05,\n",
       "        6.09406e+05, 2.77874e+05, 5.43110e+04, 5.11600e+03, 2.16000e+02]),\n",
       " array([0.40061441, 0.41978684, 0.43895928, 0.45813171, 0.47730414,\n",
       "        0.49647658, 0.51564901, 0.53482144, 0.55399388, 0.57316631,\n",
       "        0.59233874]),\n",
       " <BarContainer object of 10 artists>)"
      ]
     },
     "execution_count": 16,
     "metadata": {},
     "output_type": "execute_result"
    },
    {
     "data": {
      "image/png": "[encoded data removed]",
      "text/plain": [
       "<Figure size 720x216 with 1 Axes>"
      ]
     },
     "metadata": {
      "needs_background": "light"
     },
     "output_type": "display_data"
    }
   ],
   "source": [
    "fig, ax = plt.subplots(figsize=(10,3))\n",
    "ax.grid()\n",
    "ax.hist(y_pred)\n",
    "#dir(ax)"
   ]
  },
  {
   "cell_type": "code",
   "execution_count": 17,
   "metadata": {},
   "outputs": [
    {
     "name": "stdout",
     "output_type": "stream",
     "text": [
      "[0.40061441] [0.59233874] 0.5000025748537703\n",
      "[0.] [1.]\n"
     ]
    }
   ],
   "source": [
    "min_y = min(y_pred)\n",
    "max_y = max(y_pred)\n",
    "\n",
    "mean_y = np.mean(y_pred)\n",
    "print(min_y, max_y, mean_y)\n",
    "adj_pred = (y_pred - min_y)/(max_y - min_y)\n",
    "print(min(adj_pred), max(adj_pred))"
   ]
  },
  {
   "cell_type": "code",
   "execution_count": 18,
   "metadata": {},
   "outputs": [
    {
     "data": {
      "text/plain": [
       "(array([7.30000e+01, 1.89100e+03, 2.38170e+04, 1.65031e+05, 5.15728e+05,\n",
       "        6.09406e+05, 2.77874e+05, 5.43110e+04, 5.11600e+03, 2.16000e+02]),\n",
       " array([0. , 0.1, 0.2, 0.3, 0.4, 0.5, 0.6, 0.7, 0.8, 0.9, 1. ]),\n",
       " <BarContainer object of 10 artists>)"
      ]
     },
     "execution_count": 18,
     "metadata": {},
     "output_type": "execute_result"
    },
    {
     "data": {
      "image/png": "[encoded data removed]",
      "text/plain": [
       "<Figure size 720x216 with 1 Axes>"
      ]
     },
     "metadata": {
      "needs_background": "light"
     },
     "output_type": "display_data"
    }
   ],
   "source": [
    "fig, ax = plt.subplots(figsize=(10,3))\n",
    "ax.grid()\n",
    "ax.hist(adj_pred)\n",
    "#dir(ax)"
   ]
  },
  {
   "cell_type": "code",
   "execution_count": 19,
   "metadata": {},
   "outputs": [],
   "source": [
    "# predictions must have an `id` column and a `prediction_kazutsugi` column\n",
    "predictions_df = test[\"id\"].to_frame()\n",
    "predictions_df[\"prediction_kazutsugi\"] = adj_pred\n",
    "predictions_df.head()\n",
    "tourn = napi.get_tournaments()\n",
    "tnum = tourn[0]['tournament']\n",
    "tfile = f\"jhmuller_predictions_{tnum}.csv\"\n",
    "predictions_df.to_csv(tfile, index=False)"
   ]
  },
  {
   "cell_type": "code",
   "execution_count": 20,
   "metadata": {},
   "outputs": [
    {
     "name": "stderr",
     "output_type": "stream",
     "text": [
      "2020-10-05 07:45:07,163 INFO numerapi.base_api: uploading predictions...\n"
     ]
    },
    {
     "data": {
      "text/plain": [
       "'68e0599e-cfb9-41c7-9474-ce0c3855203b'"
      ]
     },
     "execution_count": 20,
     "metadata": {},
     "output_type": "execute_result"
    }
   ],
   "source": [
    "napi.upload_predictions(tfile)\n"
   ]
  },
  {
   "cell_type": "code",
   "execution_count": null,
   "metadata": {},
   "outputs": [],
   "source": []
  },
  {
   "cell_type": "code",
   "execution_count": null,
   "metadata": {},
   "outputs": [],
   "source": [
    "fig, ax = plt.subplots(figsize=(10,3))\n",
    "ax.grid()\n",
    "ax.scatter(y_pred, y_valid)\n",
    "#dir(ax)"
   ]
  },
  {
   "cell_type": "code",
   "execution_count": null,
   "metadata": {},
   "outputs": [],
   "source": [
    "fig, ax = plt.subplots(figsize=(10,3))\n",
    "ax.grid()\n",
    "ax.plot(np.cumsum(pca.explained_variance_ratio_))\n",
    "#dir(ax)"
   ]
  },
  {
   "cell_type": "code",
   "execution_count": null,
   "metadata": {},
   "outputs": [],
   "source": [
    "pcr = make_pipeline(StandardScaler(), PCA(n_components=50), LinearRegression())\n",
    "for last in (range(1,5)):\n",
    "    X_train = train.loc[train['era'] == \"era\"+str(last), x_cols]\n",
    "    y_train = train.loc[train['era'] == \"era\"+str(last), y_col]\n",
    "    X_valid = train.loc[train['era'] == \"era\"+str(last+1), x_cols]\n",
    "    y_valid = train.loc[train['era'] == \"era\"+str(last+1), y_col]\n",
    "    if True:\n",
    "        pcr.fit(X_train, y_train)\n",
    "        pca = pcr.named_steps['pca']  # retrieve the PCA step of the pipeline\n",
    "        y_pred = pcr.predict(X_valid)\n",
    "        pca_rmse = (np.sum(y_valid - y_pred)**2 / y_valid.shape[0])**0.5\n",
    "        pca_mad = (np.sum(np.abs(y_valid - y_pred)) / y_valid.shape[0])        \n",
    "        print(last, pca_mad)\n",
    "    rfreg = RandomForestRegressor(n_estimators=300, max_depth=40, random_state=0)\n",
    "    rfreg.fit(X_train, y_train)\n",
    "    y_pred = rfreg.predict(X_valid)\n",
    "    rf_rmse = (np.sum(y_valid - y_pred)**2 / y_valid.shape[0])**0.5\n",
    "    rf_mad = (np.sum(np.abs(y_valid - y_pred)) / y_valid.shape[0])      \n",
    "    print(last, rf_mad)    "
   ]
  }
 ],
 "metadata": {
  "kernelspec": {
   "display_name": "numerai",
   "language": "python",
   "name": "numerai"
  },
  "language_info": {
   "codemirror_mode": {
    "name": "ipython",
    "version": 3
   },
   "file_extension": ".py",
   "mimetype": "text/x-python",
   "name": "python",
   "nbconvert_exporter": "python",
   "pygments_lexer": "ipython3",
   "version": "3.8.5"
  }
 },
 "nbformat": 4,
 "nbformat_minor": 4
}
